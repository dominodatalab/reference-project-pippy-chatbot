{
 "cells": [
  {
   "cell_type": "code",
   "execution_count": 2,
   "id": "54672568-dff4-48ea-be39-1bfda56677e5",
   "metadata": {
    "tags": []
   },
   "outputs": [],
   "source": [
    "from copy import deepcopy\n",
    "from domino_data.vectordb import DominoPineconeConfiguration\n",
    "from itertools import islice\n",
    "from langchain.chains.question_answering import load_qa_chain\n",
    "from langchain.document_loaders import PyPDFLoader\n",
    "from langchain.llms import OpenAI\n",
    "from langchain.text_splitter import RecursiveCharacterTextSplitter\n",
    "from langchain.vectorstores import Pinecone\n",
    "from langchain_community.embeddings import MlflowEmbeddings\n",
    "\n",
    "import csv\n",
    "import ntpath\n",
    "import os\n",
    "import pinecone\n",
    "import re"
   ]
  },
  {
   "cell_type": "markdown",
   "id": "06f7ef2b-4ba6-4283-a2e8-fb4efd970cb2",
   "metadata": {},
   "source": []
  },
  {
   "cell_type": "code",
   "execution_count": 331,
   "id": "fe2d73fd-8d75-4848-ab2a-67d7c041ffab",
   "metadata": {
    "tags": []
   },
   "outputs": [],
   "source": [
    "# Replace with path to your .csv metadata file + pdfs directory\n",
    "# The \"embed_gen/sample_files\" directory has an example of how the metadata (pages.csv) and page pdfs (in pdfs dir) should be formatted\n",
    "metadata_file_path = \"/domino/datasets/local/Dataset_source_pdfs/pages.csv\"\n",
    "page_pdfs_dir_path = \"/domino/datasets/local/Dataset_source_pdfs/pdfs\""
   ]
  },
  {
   "cell_type": "code",
   "execution_count": 332,
   "id": "bab435f5-36f2-423e-9559-42fb3461dca7",
   "metadata": {
    "tags": []
   },
   "outputs": [
    {
     "data": {
      "text/plain": [
       "{'index.pdf': {'url': 'https://docs.dominodatalab.com/',\n",
       "  'category': '',\n",
       "  'version': '',\n",
       "  'title': 'Domino Documentation'},\n",
       " 'release_notes_5-7-1.pdf': {'url': 'https://docs.dominodatalab.com/release_notes/5-7-1/',\n",
       "  'category': 'release_notes',\n",
       "  'version': '5-7-1',\n",
       "  'title': 'Domino 5.7.1 (August 2023)'},\n",
       " 'release_notes_5-7-2.pdf': {'url': 'https://docs.dominodatalab.com/release_notes/5-7-2/',\n",
       "  'category': 'release_notes',\n",
       "  'version': '5-7-2',\n",
       "  'title': 'Domino 5.7.2 (September 2023)'},\n",
       " 'en_5.7_admin_guide_053e1f_external-data-volumes.pdf': {'url': 'https://docs.dominodatalab.com/en/5.7/admin_guide/053e1f/external-data-volumes/',\n",
       "  'category': 'admin_guide',\n",
       "  'version': '5.7',\n",
       "  'title': 'External data volumes'},\n",
       " 'en_5.7_admin_guide_f5934f_data-source-audit-logs.pdf': {'url': 'https://docs.dominodatalab.com/en/5.7/admin_guide/f5934f/data-source-audit-logs/',\n",
       "  'category': 'admin_guide',\n",
       "  'version': '5.7',\n",
       "  'title': 'Data Source audit logs'}}"
      ]
     },
     "execution_count": 332,
     "metadata": {},
     "output_type": "execute_result"
    }
   ],
   "source": [
    "# Obtain documentation metadata used for VectorDB tagging\n",
    "article_metadatas = {}\n",
    "url_idx = 0\n",
    "category_idx = 1\n",
    "version_idx = 2\n",
    "title_idx = 3\n",
    "pdf_name_idx = 4\n",
    "with open(metadata_file_path, \"r\") as metadata_file:\n",
    "    reader = csv.reader(metadata_file)\n",
    "    # Format per row: \"url\", \"category\", \"version\", \"title\", \"pdf\"\n",
    "    # Skip row containing column titles\n",
    "    next(reader, None)\n",
    "    for row in reader:\n",
    "        article_metadatas[row[pdf_name_idx]] = {\n",
    "            \"url\": row[url_idx],\n",
    "            \"category\": row[category_idx],\n",
    "            \"version\": row[version_idx],\n",
    "            \"title\": row[title_idx]\n",
    "        }\n",
    "\n",
    "# Sample to check quality\n",
    "dict(islice(article_metadatas.items(), 0, 5))"
   ]
  },
  {
   "cell_type": "code",
   "execution_count": 333,
   "id": "7a9a1c1b-d57c-486f-8877-1941811f9641",
   "metadata": {
    "tags": []
   },
   "outputs": [],
   "source": [
    "# Link page content to metadata and insert into dataframe\n",
    "article_texts = []\n",
    "chunk_size = 1000\n",
    "chunk_overlap = 0\n",
    "strip_whitespace = True\n",
    "for filename in os.listdir(page_pdfs_dir_path):\n",
    "    if not filename.endswith(\".pdf\"):\n",
    "        continue\n",
    "    loader = PyPDFLoader(f\"{page_pdfs_dir_path}/{filename}\")\n",
    "    article_text = loader.load_and_split(\n",
    "        RecursiveCharacterTextSplitter(\n",
    "            chunk_size=chunk_size, \n",
    "            chunk_overlap=chunk_overlap, \n",
    "            strip_whitespace=strip_whitespace\n",
    "        )\n",
    "    )\n",
    "        \n",
    "    article_texts.append(article_text)"
   ]
  },
  {
   "cell_type": "code",
   "execution_count": 334,
   "id": "c75681d3-1939-4216-8cbf-4ff05445f913",
   "metadata": {
    "tags": []
   },
   "outputs": [
    {
     "data": {
      "text/plain": [
       "'Connect to Google Cloud Storage\\nThis topic describes how to connect to Google Cloud Storage (GCS) from Domino. You must have network connectivity between GCS\\nand your Domino deployment.\\nThe easiest way to connect to a GCS instance from Domino is to create a Domino data source as described below.\\n\\x00. From the navigation pane, click Data.\\n\\x00. Click Create a Data Source.\\n\\x00. In the New Data Source window, from Select Data Store, select Google Cloud Storage.\\n\\x00. Enter the name of the Bucket.\\n\\x00. Enter the Data Source Name.\\nNote\\n\\x00. Optional: Enter a Description to explain the purpose of the data source to others.\\n\\x00. Click Next.\\n\\x00. Copy the Private Key (JSON format). See creating a service account for instructions about creating a service account and\\ndownloading the JSON credentials file. You must copy the entire content of the file. The Domino secret store backed by HashiCorp'"
      ]
     },
     "execution_count": 334,
     "metadata": {},
     "output_type": "execute_result"
    }
   ],
   "source": [
    "# Sample text\n",
    "article_texts[0][0].page_content"
   ]
  },
  {
   "cell_type": "code",
   "execution_count": 335,
   "id": "d5b16d92-52d4-4af9-8e79-610e8b95d801",
   "metadata": {
    "tags": []
   },
   "outputs": [
    {
     "name": "stdout",
     "output_type": "stream",
     "text": [
      "Connect to Google Cloud Storage\n",
      "This topic describes how to connect to Google Cloud Storage (GCS) from Domino. You must have network connectivity between GCS\n",
      "and your Domino deployment.\n",
      "The easiest way to connect to a GCS instance from Domino is to create a Domino data source as described below.\n",
      "\u0000. From the navigation pane, click Data.\n",
      "\u0000. Click Create a Data Source.\n",
      "\u0000. In the New Data Source window, from Select Data Store, select Google Cloud Storage.\n",
      "\u0000. Enter the name of the Bucket.\n",
      "\u0000. Enter the Data Source Name.\n",
      "Note\n",
      "\u0000. Optional: Enter a Description to explain the purpose of the data source to others.\n",
      "\u0000. Click Next.\n",
      "\u0000. Copy the Private Key (JSON format). See creating a service account for instructions about creating a service account and\n",
      "downloading the JSON credentials file. You must copy the entire content of the file. The Domino secret store backed by HashiCorp\n",
      "------ \n",
      " \n",
      "Connect to Google Cloud Storage This topic describes how to connect to Google Cloud Storage (GCS) from Domino. You must have network connectivity between GCS and your Domino deployment. The easiest way to connect to a GCS instance from Domino is to create a Domino data source as described below. . From the navigation pane, click Data. . Click Create a Data Source. . In the New Data Source window, from Select Data Store, select Google Cloud Storage. . Enter the name of the Bucket. . Enter the Data Source Name. Note . Optional: Enter a Description to explain the purpose of the data source to others. . Click Next. . Copy the Private Key (JSON format). See creating a service account for instructions about creating a service account and downloading the JSON credentials file. You must copy the entire content of the file. The Domino secret store backed by HashiCorp\n",
      "======= \n",
      " \n",
      "\u0000. Click Test Credentials.\n",
      "\u0000\u0000. If the data source authenticates, click Next.\n",
      "\u0000\u0000. Select who can view and use the data source in projects.Create a Google Cloud Storage data source\n",
      "Domino Data Lab Knowledge Base Data Science Blog Training Copyright © \u0000\u0000\u0000\u0000 Domino Data Lab. All rights reserved.User Guide Admin Guide API Guide Release Notes Light Dark\n",
      "Search\n",
      "------ \n",
      " \n",
      " . Click Test Credentials. . If the data source authenticates, click Next. . Select who can view and use the data source in projects.Create a Google Cloud Storage data source \n",
      "======= \n",
      " \n",
      "After connecting to your Data Source, learn how to Use Data Sources.\n",
      "Share this Data Source with your collaborators.Next steps\n",
      "Domino Data Lab Knowledge Base Data Science Blog Training Copyright © \u0000\u0000\u0000\u0000 Domino Data Lab. All rights reserved.\n",
      "------ \n",
      " \n",
      "After connecting to your Data Source, learn how to Use Data Sources. Share this Data Source with your collaborators.Next steps \n",
      "======= \n",
      " \n"
     ]
    }
   ],
   "source": [
    "# Replace any special characters in the text. \n",
    "# Also remove the information in the pdf header, footer and the Domino copyright related text. \n",
    "# This gives a clean text with just the docs content to vectorize\n",
    "for i in range(len(article_texts)):\n",
    "    for j in range(len(article_texts[i])):\n",
    "        article_texts[i][j].page_content = article_texts[i][j].page_content.replace(\"\\r\\n\", \" \")\n",
    "        article_texts[i][j].page_content = article_texts[i][j].page_content.replace(\"\\n\", \" \")\n",
    "        article_texts[i][j].page_content = article_texts[i][j].page_content.replace(\"\\x00\", \" \")\n",
    "        article_texts[i][j].page_content = article_texts[i][j].page_content.replace(\"Domino Data Lab Knowledge Base Data Science Blog Training Copyright ©\", \" \")\n",
    "        article_texts[i][j].page_content = article_texts[i][j].page_content.replace(\"Domino Data Lab. All rights reserved.\", \" \")\n",
    "        article_texts[i][j].page_content = article_texts[i][j].page_content.replace(\"User Guide Admin Guide API Guide Release Notes Light Dark Search\", \" \")\n",
    "        article_texts[i][j].page_content = article_texts[i][j].page_content.replace(\"\\t\", \" \")\n",
    "        article_texts[i][j].page_content = (re.sub(' +', ' ', article_texts[i][j].page_content))"
   ]
  },
  {
   "cell_type": "code",
   "execution_count": 336,
   "id": "303e1bac-cfc7-43f2-99bb-70db9fb7556f",
   "metadata": {
    "tags": []
   },
   "outputs": [
    {
     "data": {
      "text/plain": [
       "'After connecting to your Data Source, learn how to Use Data Sources. Share this Data Source with your collaborators.Next steps '"
      ]
     },
     "execution_count": 336,
     "metadata": {},
     "output_type": "execute_result"
    }
   ],
   "source": [
    "# Print sample to test quality\n",
    "article_texts[0][2].page_content"
   ]
  },
  {
   "cell_type": "markdown",
   "id": "8f0b540d-b0e1-4dc9-9dbd-f7cba85cc628",
   "metadata": {
    "tags": []
   },
   "source": [
    "### Insertion into Pinecone vector database"
   ]
  },
  {
   "cell_type": "code",
   "execution_count": 338,
   "id": "4b1f8826-b951-4e6b-b670-fa2b018eb13f",
   "metadata": {
    "tags": []
   },
   "outputs": [],
   "source": [
    "index_name = \"hacktest\""
   ]
  },
  {
   "cell_type": "code",
   "execution_count": 339,
   "id": "dd369f6f-6c87-4aca-aceb-a3050b9e25e0",
   "metadata": {
    "tags": []
   },
   "outputs": [],
   "source": [
    "embeddings = MlflowEmbeddings(\n",
    "    target_uri=os.environ[\"DOMINO_MLFLOW_DEPLOYMENTS\"],\n",
    "    endpoint=\"embeddings\",\n",
    ")"
   ]
  },
  {
   "cell_type": "code",
   "execution_count": 340,
   "id": "840b7ebc-a34f-426f-92bc-a672e2cbbce3",
   "metadata": {
    "tags": []
   },
   "outputs": [
    {
     "name": "stdout",
     "output_type": "stream",
     "text": [
      "['hacktest']\n"
     ]
    },
    {
     "data": {
      "text/plain": [
       "{'dimension': 1536,\n",
       " 'index_fullness': 0.0,\n",
       " 'namespaces': {},\n",
       " 'total_vector_count': 0}"
      ]
     },
     "execution_count": 340,
     "metadata": {},
     "output_type": "execute_result"
    }
   ],
   "source": [
    "datasource_name = \"PineconeHackathon\"\n",
    "conf = DominoPineconeConfiguration(datasource=datasource_name)\n",
    "# The pinecone API key should be provided when creating the Domino data source and persisted securely.\n",
    "# This api_key variable here is only used for satisfying the native pinecone python client initialization where\n",
    "# api_key is a mandatory non-empty field.\n",
    "api_key = os.environ.get(\"DOMINO_VECTOR_DB_METADATA\", datasource_name)\n",
    "\n",
    "pinecone.init(\n",
    "    api_key=api_key,\n",
    "    environment=\"domino\",\n",
    "    openapi_config=conf)\n",
    "\n",
    "print(pinecone.list_indexes())\n",
    "\n",
    "# Use the appropriate index_name based on the index you want to use\n",
    "index = pinecone.Index(index_name)\n",
    "index.describe_index_stats()"
   ]
  },
  {
   "cell_type": "code",
   "execution_count": 341,
   "id": "4a892e3e-d737-4299-82cb-7d06948f279c",
   "metadata": {
    "tags": []
   },
   "outputs": [],
   "source": [
    "index_name = \"hacktest\"\n",
    "texts_to_insert = []\n",
    "metadatas_to_insert = []\n",
    "\n",
    "# i represents article index\n",
    "# j represents chunk index\n",
    "for i in range(len(article_texts)):\n",
    "    # Get the current article's name by checking the source of the first chunk\n",
    "    article_name = ntpath.basename(article_texts[i][0].metadata['source'])\n",
    "    for j in range(len(article_texts[i])):\n",
    "        # deepcopy required to prevent overwriting\n",
    "        matching_metadata = deepcopy(article_metadatas[article_name])\n",
    "        texts_to_insert.append(article_texts[i][j].page_content)\n",
    "        metadatas_to_insert.append(matching_metadata)"
   ]
  },
  {
   "cell_type": "code",
   "execution_count": 342,
   "id": "03213b1e-9afb-4d49-9cfe-97a37114e948",
   "metadata": {
    "tags": []
   },
   "outputs": [
    {
     "name": "stdout",
     "output_type": "stream",
     "text": [
      "Sample of texts_to_insert\n",
      "['Connect to Google Cloud Storage This topic describes how to connect to Google Cloud Storage (GCS) from Domino. You must have network connectivity between GCS and your Domino deployment. The easiest way to connect to a GCS instance from Domino is to create a Domino data source as described below. . From the navigation pane, click Data. . Click Create a Data Source. . In the New Data Source window, from Select Data Store, select Google Cloud Storage. . Enter the name of the Bucket. . Enter the Data Source Name. Note . Optional: Enter a Description to explain the purpose of the data source to others. . Click Next. . Copy the Private Key (JSON format). See creating a service account for instructions about creating a service account and downloading the JSON credentials file. You must copy the entire content of the file. The Domino secret store backed by HashiCorp', ' . Click Test Credentials. . If the data source authenticates, click Next. . Select who can view and use the data source in projects.Create a Google Cloud Storage data source ']\n",
      "\n",
      "Sample of metadatas_to_insert\n",
      "[{'url': 'https://docs.dominodatalab.com/en/5.7/user_guide/95d78a/connect-to-google-cloud-storage/', 'category': 'user_guide', 'version': '5.7', 'title': 'Connect to Google Cloud Storage'}, {'url': 'https://docs.dominodatalab.com/en/5.7/user_guide/95d78a/connect-to-google-cloud-storage/', 'category': 'user_guide', 'version': '5.7', 'title': 'Connect to Google Cloud Storage'}]\n"
     ]
    }
   ],
   "source": [
    "# Check data to insert\n",
    "print(\"Sample of texts_to_insert\")\n",
    "print(texts_to_insert[:2])\n",
    "print()\n",
    "print(\"Sample of metadatas_to_insert\")\n",
    "print(metadatas_to_insert[:2])"
   ]
  },
  {
   "cell_type": "code",
   "execution_count": 343,
   "id": "929aeee8-8143-4bf4-9d6b-70e353faf01a",
   "metadata": {
    "tags": []
   },
   "outputs": [],
   "source": [
    "docsearch = Pinecone.from_texts(\n",
    "    texts_to_insert, \n",
    "    embeddings, \n",
    "    metadatas=metadatas_to_insert, \n",
    "    index_name=index_name\n",
    ")"
   ]
  },
  {
   "cell_type": "markdown",
   "id": "35dbb910-3d16-4538-82b7-40e1d380c1cf",
   "metadata": {
    "tags": []
   },
   "source": [
    "### Test vector embedding search"
   ]
  },
  {
   "cell_type": "code",
   "execution_count": 346,
   "id": "c302ff77-c32f-4a7c-b9b5-ea642cbbac20",
   "metadata": {
    "tags": []
   },
   "outputs": [
    {
     "data": {
      "text/plain": [
       "'After connecting to your Data Source, learn how to Use Data Sources. Share this Data Source with your collaborators.Next steps '"
      ]
     },
     "execution_count": 346,
     "metadata": {},
     "output_type": "execute_result"
    }
   ],
   "source": [
    "query = \"How can I use a Data Source in my Domino project?\"\n",
    "docs = docsearch.similarity_search(query)\n",
    "docs[0].page_content"
   ]
  },
  {
   "cell_type": "markdown",
   "id": "8833cb15-feee-457f-910a-a0e660831136",
   "metadata": {},
   "source": [
    "### Test OpenAI RAG using vector embeddings"
   ]
  },
  {
   "cell_type": "code",
   "execution_count": 283,
   "id": "bc73cccd-342c-4743-9d63-f29494a28a7f",
   "metadata": {
    "tags": []
   },
   "outputs": [],
   "source": [
    "llm = OpenAI(temperature=0, openai_api_key=OPENAI_API_KEY)\n",
    "chain = load_qa_chain(llm, chain_type=\"stuff\")"
   ]
  },
  {
   "cell_type": "markdown",
   "id": "7858b84a-122a-4515-8deb-1d1372018ff0",
   "metadata": {},
   "source": [
    "### Utility Cells"
   ]
  },
  {
   "cell_type": "code",
   "execution_count": 329,
   "id": "5f99df24-885e-42a6-868b-e287a37d37e1",
   "metadata": {
    "tags": []
   },
   "outputs": [
    {
     "data": {
      "text/plain": [
       "{}"
      ]
     },
     "execution_count": 329,
     "metadata": {},
     "output_type": "execute_result"
    }
   ],
   "source": [
    "# WARNING!!! DELETES ALL VECTORS IN NAMESPACE\n",
    "# Uncomment below to use\n",
    "# index = pinecone.Index(index_name)\n",
    "# index.delete(delete_all=True)"
   ]
  },
  {
   "cell_type": "code",
   "execution_count": null,
   "id": "7b485486-fb3d-4975-89ab-3ce37c1477a1",
   "metadata": {},
   "outputs": [],
   "source": []
  }
 ],
 "metadata": {
  "kernelspec": {
   "display_name": "Python 3 (ipykernel)",
   "language": "python",
   "name": "python3"
  },
  "language_info": {
   "codemirror_mode": {
    "name": "ipython",
    "version": 3
   },
   "file_extension": ".py",
   "mimetype": "text/x-python",
   "name": "python",
   "nbconvert_exporter": "python",
   "pygments_lexer": "ipython3",
   "version": "3.8.10"
  }
 },
 "nbformat": 4,
 "nbformat_minor": 5
}