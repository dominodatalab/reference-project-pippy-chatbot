{
 "cells": [
  {
   "cell_type": "code",
   "execution_count": 1,
   "id": "54672568-dff4-48ea-be39-1bfda56677e5",
   "metadata": {
    "tags": []
   },
   "outputs": [],
   "source": [
    "from copy import deepcopy\n",
    "from domino_data.vectordb import domino_pinecone3x_init_params, domino_pinecone3x_index_params\n",
    "from itertools import islice\n",
    "from langchain.document_loaders import PyPDFLoader\n",
    "from langchain.text_splitter import RecursiveCharacterTextSplitter\n",
    "from langchain_community.embeddings import MlflowEmbeddings\n",
    "from pinecone import Pinecone\n",
    "\n",
    "import csv\n",
    "import ntpath\n",
    "import os\n",
    "import re\n",
    "import uuid"
   ]
  },
  {
   "cell_type": "code",
   "execution_count": 2,
   "id": "fe2d73fd-8d75-4848-ab2a-67d7c041ffab",
   "metadata": {
    "tags": []
   },
   "outputs": [],
   "source": [
    "# The \"./../embed_gen/sample_files\" directory has an example of how the metadata (pages.csv) and page pdfs (in pdfs dir) should be formatted\n",
    "metadata_file_path = \"./../embed_gen/sample_files/pages.csv\" # Replace with the path to your metadata file, which can be from a Domino Dataset\n",
    "page_pdfs_dir_path = \"./../embed_gen/sample_files/pdfs\" # Replace with the path to your PDFs directory, which can be from a Domino Dataset"
   ]
  },
  {
   "cell_type": "code",
   "execution_count": 3,
   "id": "bab435f5-36f2-423e-9559-42fb3461dca7",
   "metadata": {
    "tags": []
   },
   "outputs": [
    {
     "data": {
      "text/plain": [
       "{'index.pdf': {'url': 'https://docs.dominodatalab.com/',\n",
       "  'category': '',\n",
       "  'version': '',\n",
       "  'title': 'Domino Documentation'},\n",
       " 'release_notes_5-7-1.pdf': {'url': 'https://docs.dominodatalab.com/release_notes/5-7-1/',\n",
       "  'category': 'release_notes',\n",
       "  'version': '5-7-1',\n",
       "  'title': 'Domino 5.7.1 (August 2023)'},\n",
       " 'release_notes_5-7-2.pdf': {'url': 'https://docs.dominodatalab.com/release_notes/5-7-2/',\n",
       "  'category': 'release_notes',\n",
       "  'version': '5-7-2',\n",
       "  'title': 'Domino 5.7.2 (September 2023)'},\n",
       " 'en_5.7_admin_guide_053e1f_external-data-volumes.pdf': {'url': 'https://docs.dominodatalab.com/en/5.7/admin_guide/053e1f/external-data-volumes/',\n",
       "  'category': 'admin_guide',\n",
       "  'version': '5.7',\n",
       "  'title': 'External data volumes'},\n",
       " 'en_5.7_admin_guide_f5934f_data-source-audit-logs.pdf': {'url': 'https://docs.dominodatalab.com/en/5.7/admin_guide/f5934f/data-source-audit-logs/',\n",
       "  'category': 'admin_guide',\n",
       "  'version': '5.7',\n",
       "  'title': 'Data Source audit logs'}}"
      ]
     },
     "execution_count": 3,
     "metadata": {},
     "output_type": "execute_result"
    }
   ],
   "source": [
    "# Obtain documentation metadata used for VectorDB tagging\n",
    "article_metadatas = {}\n",
    "url_idx = 0\n",
    "category_idx = 1\n",
    "version_idx = 2\n",
    "title_idx = 3\n",
    "pdf_name_idx = 4\n",
    "with open(metadata_file_path, \"r\") as metadata_file:\n",
    "    reader = csv.reader(metadata_file)\n",
    "    # Format per row: \"url\", \"category\", \"version\", \"title\", \"pdf\"\n",
    "    # Skip row containing column titles\n",
    "    next(reader, None)\n",
    "    for row in reader:\n",
    "        article_metadatas[row[pdf_name_idx]] = {\n",
    "            \"url\": row[url_idx],\n",
    "            \"category\": row[category_idx],\n",
    "            \"version\": row[version_idx],\n",
    "            \"title\": row[title_idx]\n",
    "        }\n",
    "\n",
    "# Sample to check quality\n",
    "dict(islice(article_metadatas.items(), 0, 5))"
   ]
  },
  {
   "cell_type": "code",
   "execution_count": 4,
   "id": "7a9a1c1b-d57c-486f-8877-1941811f9641",
   "metadata": {
    "tags": []
   },
   "outputs": [],
   "source": [
    "# Link page content to metadata and insert into dataframe\n",
    "article_texts = []\n",
    "chunk_size = 1000\n",
    "chunk_overlap = 0\n",
    "strip_whitespace = True\n",
    "for filename in os.listdir(page_pdfs_dir_path):\n",
    "    if not filename.endswith(\".pdf\"):\n",
    "        continue\n",
    "    loader = PyPDFLoader(f\"{page_pdfs_dir_path}/{filename}\")\n",
    "    article_text = loader.load_and_split(\n",
    "        RecursiveCharacterTextSplitter(\n",
    "            chunk_size=chunk_size, \n",
    "            chunk_overlap=chunk_overlap, \n",
    "            strip_whitespace=strip_whitespace\n",
    "        )\n",
    "    )\n",
    "        \n",
    "    article_texts.append(article_text)"
   ]
  },
  {
   "cell_type": "code",
   "execution_count": 5,
   "id": "c75681d3-1939-4216-8cbf-4ff05445f913",
   "metadata": {
    "tags": []
   },
   "outputs": [
    {
     "data": {
      "text/plain": [
       "'>User guide>Work with data>Access external data>External Data Volumes (EDVs)>Add EDVs to Projects\\nAdd EDVs to Projects\\nIf a Domino admin has registered an external data volume (EDV) and shared it with you, you can add it to any of your projects. When you\\nremove an EDV from a project, it remains mounted and available to other projects in Domino.\\n\\x00. In your project, go to Data and click External Data Volumes.\\n\\x00. Click Add External Volume.\\n\\x00. Select an EDV from the list.\\n\\x00. Click Add.\\nIf you cannot view, search for, or select external volumes, they are not registered in your deployment or you do not have access\\nprivileges. Contact your Domino administrator for assistance.\\nIf your volume is successfully mounted, it is listed in your project at Data > External Data Volumes. The table indicates which data\\nplanes have access to this EDV:\\n\\x00. In your project, go to Data > External Volumes..'"
      ]
     },
     "execution_count": 5,
     "metadata": {},
     "output_type": "execute_result"
    }
   ],
   "source": [
    "# Sample text\n",
    "article_texts[0][0].page_content"
   ]
  },
  {
   "cell_type": "code",
   "execution_count": 6,
   "id": "d5b16d92-52d4-4af9-8e79-610e8b95d801",
   "metadata": {
    "tags": []
   },
   "outputs": [],
   "source": [
    "# Replaces special characters, the information in the pdf header, footer, and Domino copyright-related text\n",
    "# This yields a refined text with only relevant content to create vector embeddings from\n",
    "# Add/modify to suite the needs of your text\n",
    "for i in range(len(article_texts)):\n",
    "    for j in range(len(article_texts[i])):\n",
    "        article_texts[i][j].page_content = article_texts[i][j].page_content.replace(\"\\r\\n\", \" \")\n",
    "        article_texts[i][j].page_content = article_texts[i][j].page_content.replace(\"\\n\", \" \")\n",
    "        article_texts[i][j].page_content = article_texts[i][j].page_content.replace(\"\\x00\", \" \")\n",
    "        article_texts[i][j].page_content = article_texts[i][j].page_content.replace(\"Domino Data Lab Knowledge Base Data Science Blog Training Copyright ©\", \" \")\n",
    "        article_texts[i][j].page_content = article_texts[i][j].page_content.replace(\"Domino Data Lab. All rights reserved.\", \" \")\n",
    "        article_texts[i][j].page_content = article_texts[i][j].page_content.replace(\"User Guide Admin Guide API Guide Release Notes Light Dark Search\", \" \")\n",
    "        article_texts[i][j].page_content = article_texts[i][j].page_content.replace(\"\\t\", \" \")\n",
    "        article_texts[i][j].page_content = (re.sub(' +', ' ', article_texts[i][j].page_content))"
   ]
  },
  {
   "cell_type": "code",
   "execution_count": 7,
   "id": "303e1bac-cfc7-43f2-99bb-70db9fb7556f",
   "metadata": {
    "tags": []
   },
   "outputs": [
    {
     "data": {
      "text/plain": [
       "'By default, external volumes that are mounted to your project (and that you have access to) are also automatically mounted in supported executions. To access a volume in an execution, reference the mount path of the volumes.Use an EDV in a Project View all mounted volumes in a Project In your project, go to Data > External Data Volumes. Each volume’s properties are shown in the table. Name – An alias for the volume, set by your Domino administrator. Type – The type of volume. Domino supports NFS, AWS EFS, and Windows Share (SMB). Description – A description of the volume, set by your Domino administrator. Mount Path – The mount path of the volume: /domino/edv/name-of-volume. Use this mount path when using the volume in a Job, Workspace, or other supported Domino execution. Data Plane - In Domino Nexus deployments, the data plane where the volume is mounted. Important'"
      ]
     },
     "execution_count": 7,
     "metadata": {},
     "output_type": "execute_result"
    }
   ],
   "source": [
    "# Print sample to test quality\n",
    "article_texts[0][2].page_content"
   ]
  },
  {
   "cell_type": "markdown",
   "id": "8f0b540d-b0e1-4dc9-9dbd-f7cba85cc628",
   "metadata": {
    "tags": []
   },
   "source": [
    "### Insertion into Pinecone vector database"
   ]
  },
  {
   "cell_type": "code",
   "execution_count": 8,
   "id": "4b1f8826-b951-4e6b-b670-fa2b018eb13f",
   "metadata": {
    "tags": []
   },
   "outputs": [],
   "source": [
    "# Replace index_name with the index name you want to use\n",
    "# Ensure the index dimension is 1536 if using OpenAI\n",
    "index_name = \"pippy-test\""
   ]
  },
  {
   "cell_type": "code",
   "execution_count": 9,
   "id": "dd369f6f-6c87-4aca-aceb-a3050b9e25e0",
   "metadata": {
    "tags": []
   },
   "outputs": [],
   "source": [
    "embeddings = MlflowEmbeddings(\n",
    "    target_uri=os.environ[\"DOMINO_MLFLOW_DEPLOYMENTS\"],\n",
    "    endpoint=\"embeddings\",\n",
    ")"
   ]
  },
  {
   "cell_type": "code",
   "execution_count": 10,
   "id": "f87a1e6f",
   "metadata": {},
   "outputs": [
    {
     "name": "stdout",
     "output_type": "stream",
     "text": [
      "{'indexes': [{'dimension': 1536,\n",
      "              'host': 'pippy-test-u48kgg5.svc.aped-4627-b74a.pinecone.io',\n",
      "              'metric': 'cosine',\n",
      "              'name': 'pippy-test',\n",
      "              'spec': {'serverless': {'cloud': 'aws', 'region': 'us-east-1'}},\n",
      "              'status': {'ready': True, 'state': 'Ready'}}]}\n",
      "{'dimension': 1536,\n",
      " 'index_fullness': 0.0,\n",
      " 'namespaces': {'': {'vector_count': 43}},\n",
      " 'total_vector_count': 43}\n"
     ]
    }
   ],
   "source": [
    "# Get vector database indices\n",
    "datasource_name = \"pinecone-pippy\"\n",
    "pc = Pinecone(**domino_pinecone3x_init_params(datasource_name))\n",
    "print(pc.list_indexes())\n",
    "\n",
    "index = pc.Index(**domino_pinecone3x_index_params(datasource_name, index_name))\n",
    "# Get target index statistics\n",
    "print(index.describe_index_stats())"
   ]
  },
  {
   "cell_type": "code",
   "execution_count": 11,
   "id": "4a892e3e-d737-4299-82cb-7d06948f279c",
   "metadata": {
    "tags": []
   },
   "outputs": [],
   "source": [
    "texts_to_insert = []\n",
    "metadatas_to_insert = []\n",
    "\n",
    "# i represents article index\n",
    "# j represents chunk index\n",
    "for i in range(len(article_texts)):\n",
    "    # Get the current article's name by checking the source of the first chunk\n",
    "    article_name = ntpath.basename(article_texts[i][0].metadata['source'])\n",
    "    for j in range(len(article_texts[i])):\n",
    "        # deepcopy required to prevent overwriting\n",
    "        matching_metadata = deepcopy(article_metadatas[article_name])\n",
    "        texts_to_insert.append(article_texts[i][j].page_content)\n",
    "        # Add text content as metadata \n",
    "        matching_metadata[\"text\"] = article_texts[i][j].page_content\n",
    "        metadatas_to_insert.append(matching_metadata)"
   ]
  },
  {
   "cell_type": "code",
   "execution_count": 12,
   "id": "03213b1e-9afb-4d49-9cfe-97a37114e948",
   "metadata": {
    "tags": []
   },
   "outputs": [
    {
     "name": "stdout",
     "output_type": "stream",
     "text": [
      "Sample of texts_to_insert\n",
      "['>User guide>Work with data>Access external data>External Data Volumes (EDVs)>Add EDVs to Projects Add EDVs to Projects If a Domino admin has registered an external data volume (EDV) and shared it with you, you can add it to any of your projects. When you remove an EDV from a project, it remains mounted and available to other projects in Domino. . In your project, go to Data and click External Data Volumes. . Click Add External Volume. . Select an EDV from the list. . Click Add. If you cannot view, search for, or select external volumes, they are not registered in your deployment or you do not have access privileges. Contact your Domino administrator for assistance. If your volume is successfully mounted, it is listed in your project at Data > External Data Volumes. The table indicates which data planes have access to this EDV: . In your project, go to Data > External Volumes..', ' . Click the three vertical dots at the end of the row for the volume in the table, then click Remove.Add an EDV to a Project Remove an EDV from a Project ']\n",
      "\n",
      "Sample of metadatas_to_insert\n",
      "[{'url': 'https://docs.dominodatalab.com/en/latest/user_guide/ee8d01/add-edvs-to-projects/', 'category': 'user_guide', 'version': 'latest', 'title': 'Add EDVs to Projects', 'text': '>User guide>Work with data>Access external data>External Data Volumes (EDVs)>Add EDVs to Projects Add EDVs to Projects If a Domino admin has registered an external data volume (EDV) and shared it with you, you can add it to any of your projects. When you remove an EDV from a project, it remains mounted and available to other projects in Domino. . In your project, go to Data and click External Data Volumes. . Click Add External Volume. . Select an EDV from the list. . Click Add. If you cannot view, search for, or select external volumes, they are not registered in your deployment or you do not have access privileges. Contact your Domino administrator for assistance. If your volume is successfully mounted, it is listed in your project at Data > External Data Volumes. The table indicates which data planes have access to this EDV: . In your project, go to Data > External Volumes..'}, {'url': 'https://docs.dominodatalab.com/en/latest/user_guide/ee8d01/add-edvs-to-projects/', 'category': 'user_guide', 'version': 'latest', 'title': 'Add EDVs to Projects', 'text': ' . Click the three vertical dots at the end of the row for the volume in the table, then click Remove.Add an EDV to a Project Remove an EDV from a Project '}]\n"
     ]
    }
   ],
   "source": [
    "# Check data to insert\n",
    "print(\"Sample of texts_to_insert\")\n",
    "print(texts_to_insert[:2])\n",
    "print()\n",
    "print(\"Sample of metadatas_to_insert\")\n",
    "print(metadatas_to_insert[:2])"
   ]
  },
  {
   "cell_type": "code",
   "execution_count": 13,
   "id": "5445a46c",
   "metadata": {},
   "outputs": [
    {
     "data": {
      "text/plain": [
       "{'upserted_count': 43}"
      ]
     },
     "execution_count": 13,
     "metadata": {},
     "output_type": "execute_result"
    }
   ],
   "source": [
    "ids = [str(uuid.uuid4()) for i in range(len(texts_to_insert))]\n",
    "embedded_texts = [embeddings.embed_query(text) for text in texts_to_insert]\n",
    "vectors = [{\"id\": id, \"values\": embedded_text, \"metadata\": metadata} for id, embedded_text, metadata in zip(ids, embedded_texts, metadatas_to_insert)]\n",
    "index.upsert(vectors)"
   ]
  },
  {
   "cell_type": "markdown",
   "id": "35dbb910-3d16-4538-82b7-40e1d380c1cf",
   "metadata": {
    "tags": []
   },
   "source": [
    "### Test vector embedding search"
   ]
  },
  {
   "cell_type": "code",
   "execution_count": 14,
   "id": "130ce91d",
   "metadata": {},
   "outputs": [
    {
     "data": {
      "text/plain": [
       "[{'id': 'bad634f4-3bee-412d-906b-1388a4607ea6',\n",
       "  'metadata': {'category': 'admin_guide',\n",
       "               'text': '>Admin guide>Data Planes>Enable a Data Plane for '\n",
       "                       'Workspaces Enable a Data Plane for Workspaces To '\n",
       "                       'support workspaces, the data plane must be configured '\n",
       "                       'so that users can connect directly to the data plane to '\n",
       "                       'access interactive workloads, as described below. The '\n",
       "                       'data plane must be served from a subdomain of the '\n",
       "                       'domain used for the control plane. In other words, if '\n",
       "                       'users connect to Domino at example.com, then data '\n",
       "                       'planes must be served from data-plane.example.com. The '\n",
       "                       'hostname above should resolve to a load balancer which '\n",
       "                       'routes traffic to port on Pods with the following label '\n",
       "                       'selector: app.kubernetes.io/component: auth-proxy '\n",
       "                       'app.kubernetes.io/instance: auth-proxy '\n",
       "                       'app.kubernetes.io/name: auth-proxy You can do this with '\n",
       "                       'a combination of a NodePort service and load balancer '\n",
       "                       'if on-premises, or using LoadBalancer service types in '\n",
       "                       'major cloud providers. Users must connect to data '\n",
       "                       'planes using TLS (HTTPS). If you are using a load '\n",
       "                       'balancer to route traffic to the data plane, it might '\n",
       "                       'be',\n",
       "               'title': 'Enable a Data Plane for Workspaces',\n",
       "               'url': 'https://docs.dominodatalab.com/en/latest/admin_guide/491fe8/enable-a-data-plane-for-workspaces/',\n",
       "               'version': 'latest'},\n",
       "  'score': 0.90034914,\n",
       "  'values': []}]"
      ]
     },
     "execution_count": 14,
     "metadata": {},
     "output_type": "execute_result"
    }
   ],
   "source": [
    "query = \"How can enable a Data Plane for a Workspace?\"\n",
    "embedded_query = embeddings.embed_query(query)\n",
    "# Get the vector closest to the embedded query\n",
    "relevant_vectors = index.query(\n",
    "    vector=embedded_query,\n",
    "    top_k=1,\n",
    "    include_metadata=True\n",
    ")\n",
    "# Get text in the metadata of the embedding\n",
    "relevant_vectors[\"matches\"]"
   ]
  },
  {
   "cell_type": "markdown",
   "id": "7858b84a-122a-4515-8deb-1d1372018ff0",
   "metadata": {},
   "source": [
    "### Utility Cells"
   ]
  },
  {
   "cell_type": "code",
   "execution_count": 15,
   "id": "5f99df24-885e-42a6-868b-e287a37d37e1",
   "metadata": {
    "tags": []
   },
   "outputs": [],
   "source": [
    "# WARNING!!! DELETES ALL VECTORS IN NAMESPACE\n",
    "# Uncomment below to use\n",
    "# index.delete(delete_all=True)"
   ]
  },
  {
   "cell_type": "code",
   "execution_count": null,
   "id": "ef270f9b-40cb-46f6-b2d0-85fb6078ac56",
   "metadata": {},
   "outputs": [],
   "source": []
  }
 ],
 "metadata": {
  "kernelspec": {
   "display_name": "Python 3 (ipykernel)",
   "language": "python",
   "name": "python3"
  },
  "language_info": {
   "codemirror_mode": {
    "name": "ipython",
    "version": 3
   },
   "file_extension": ".py",
   "mimetype": "text/x-python",
   "name": "python",
   "nbconvert_exporter": "python",
   "pygments_lexer": "ipython3",
   "version": "3.9.18"
  }
 },
 "nbformat": 4,
 "nbformat_minor": 5
}